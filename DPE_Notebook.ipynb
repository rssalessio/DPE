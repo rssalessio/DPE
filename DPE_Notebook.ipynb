{
 "cells": [
  {
   "cell_type": "markdown",
   "metadata": {},
   "source": [
    "# Setup"
   ]
  },
  {
   "cell_type": "code",
   "execution_count": 1,
   "metadata": {},
   "outputs": [],
   "source": [
    "import numpy as np\n",
    "import matplotlib.pyplot as plt\n",
    "import tqdm\n",
    "from bandits import *\n",
    "from strategies import *"
   ]
  },
  {
   "cell_type": "code",
   "execution_count": 2,
   "metadata": {},
   "outputs": [],
   "source": [
    "# plot parameters\n",
    "plt.rcParams.update({\n",
    "    \"font.family\": \"serif\",  # use serif/main font for text elements\n",
    "    \"text.usetex\": True,     # use inline math for ticks\n",
    "    \"pgf.rcfonts\": False,    # don't setup fonts from rc parameters\n",
    "    \"pgf.preamble\": [\n",
    "         \"\\\\usepackage{units}\",          # load additional packages\n",
    "         \"\\\\usepackage{metalogo}\",\n",
    "         \"\\\\usepackage{unicode-math}\",   # unicode math setup\n",
    "         r\"\\setmathfont{xits-math.otf}\",\n",
    "         r\"\\setmainfont{DejaVu Serif}\",  # serif font via preamble\n",
    "         ]\n",
    "})"
   ]
  },
  {
   "cell_type": "code",
   "execution_count": 3,
   "metadata": {},
   "outputs": [],
   "source": [
    "########\n",
    "### READ ME!!!!!!!!!\n",
    "### If you decide to run a new simulations with different parameters,\n",
    "### FIRST DELETE ALL THE CONTENT IN THE \"scores\" FOLDER! Or copy it somewhere else if you need it\n",
    "####\n",
    "horizon = 50000\n",
    "K = 9\n",
    "means = np.linspace(0.9, 0.89, K)\n",
    "nplayers = 6\n",
    "n_simu = 5\n",
    "cdpe = DPE.CDPE()\n",
    "strategies = [(MCTopM, 'MCTopM', {'M':nplayers}), (SynchComm, 'SynchComm', {}), (DPE, 'DPE', {})]\n",
    "\n",
    "\n",
    "# try to load for a warm restart\n",
    "try:\n",
    "    scores_1 = np.load('scores/scores_1.npy').item()\n",
    "except FileNotFoundError:\n",
    "    scores_1 = {}\n",
    "    \n",
    "try:  \n",
    "    raw_scores_1 = np.load('scores/raw_scores_1.npy').item()\n",
    "except:\n",
    "    raw_scores_1 = {}"
   ]
  },
  {
   "cell_type": "markdown",
   "metadata": {},
   "source": [
    "# Simulate"
   ]
  },
  {
   "cell_type": "code",
   "execution_count": 4,
   "metadata": {},
   "outputs": [
    {
     "name": "stderr",
     "output_type": "stream",
     "text": [
      "Simulating MCTopM: 100%|██████████| 5/5 [01:06<00:00, 13.19s/it]\n",
      "Simulating SynchComm: 100%|██████████| 5/5 [00:37<00:00,  7.54s/it]\n",
      "Simulating DPE: 100%|██████████| 5/5 [01:04<00:00, 12.92s/it]\n"
     ]
    }
   ],
   "source": [
    "# if we decide to interrupt the running code, it saves the current state of all the stored scores\n",
    "try:\n",
    "    for strat, strat_name, args in strategies:\n",
    "        #if strat_name not in scores_1.keys():\n",
    "        try:\n",
    "            # the number of runs to run for this algo\n",
    "            nalgo = n_simu-len(raw_scores_1[strat_name])\n",
    "        except KeyError:\n",
    "            # case of algo not loaded (ie 0 run already done)\n",
    "            raw_scores_1[strat_name] = []\n",
    "            nalgo = n_simu\n",
    "        for i in tqdm.tqdm(range(nalgo), desc=\"Simulating {}\".format(strat_name)):\n",
    "            MAB = FullSensingMultiPlayerMAB(means, nplayers=nplayers, strategy=strat, T=horizon, **args) # simulate a run with the chosen parameters\n",
    "            r, _ = MAB.simulate(horizon)\n",
    "            raw_scores_1[strat_name].append(r)            \n",
    "        scores_1[strat_name] = [np.mean(raw_scores_1[strat_name], axis=0),\n",
    "                                np.std(raw_scores_1[strat_name], axis=0),\n",
    "                                np.min(raw_scores_1[strat_name], axis=0),\n",
    "                                np.max(raw_scores_1[strat_name], axis=0)]\n",
    "\n",
    "        del raw_scores_1[strat_name]\n",
    "        del r\n",
    "    \n",
    "    # also saves the scores if we ran the whole algorithm without interrupting\n",
    "    np.save('scores/raw_scores_1.npy', raw_scores_1)\n",
    "    np.save('scores/scores_1.npy', scores_1)\n",
    "    \n",
    "except KeyboardInterrupt:\n",
    "    # save in case of interruption\n",
    "    print('Number of tries ran for %s : %d' %(strat_name, len(raw_scores_1[strat_name])))\n",
    "    np.save('scores/raw_scores_1.npy', raw_scores_1)\n",
    "    np.save('scores/scores_1.npy', scores_1)\n",
    "    del raw_scores_1"
   ]
  },
  {
   "cell_type": "markdown",
   "metadata": {},
   "source": [
    "# Plot"
   ]
  },
  {
   "cell_type": "code",
   "execution_count": 5,
   "metadata": {},
   "outputs": [
    {
     "data": {
      "image/png": "[encoded data removed]",
      "text/plain": [
       "<Figure size 432x288 with 1 Axes>"
      ]
     },
     "metadata": {
      "needs_background": "light"
     },
     "output_type": "display_data"
    }
   ],
   "source": [
    "# plot evolution of regret\n",
    "try:\n",
    "    scores_1 = np.load('scores/scores_1.npy').item()\n",
    "except FileNotFoundError:\n",
    "    scores_1 = {}\n",
    "    \n",
    "fig = plt.figure()\n",
    "horizon_plot = -1\n",
    "ls = ['--', '-', '-.']\n",
    "for i,z in enumerate(strategies):\n",
    "    strat, strat_name, _ = z\n",
    "    name = strat_name\n",
    "    plt.plot(scores_1[strat_name][0][:horizon_plot], ls[i], label=name)\n",
    "plt.title('{} arms, {} players, horizon={}'.format(K, nplayers, horizon), fontsize=20)\n",
    "plt.xlabel('$t$', fontsize=20)\n",
    "plt.ylabel('Regret', fontsize=20)\n",
    "plt.legend(fontsize=14)\n",
    "plt.grid(alpha=0.5)\n",
    "fig.savefig('figures/K{}_M{}_delta{}.pgf'.format(K, nplayers, (int)(1000*(means[0]-means[1]))))\n",
    "plt.show()"
   ]
  },
  {
   "cell_type": "code",
   "execution_count": null,
   "metadata": {},
   "outputs": [],
   "source": []
  }
 ],
 "metadata": {
  "kernelspec": {
   "display_name": "Python 3",
   "language": "python",
   "name": "python3"
  },
  "language_info": {
   "codemirror_mode": {
    "name": "ipython",
    "version": 3
   },
   "file_extension": ".py",
   "mimetype": "text/x-python",
   "name": "python",
   "nbconvert_exporter": "python",
   "pygments_lexer": "ipython3",
   "version": "3.7.1"
  }
 },
 "nbformat": 4,
 "nbformat_minor": 2
}
